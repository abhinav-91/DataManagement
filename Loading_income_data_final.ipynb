{
 "cells": [
  {
   "cell_type": "code",
   "execution_count": 1,
   "metadata": {
    "collapsed": false
   },
   "outputs": [
    {
     "name": "stderr",
     "output_type": "stream",
     "text": [
      "/opt/conda/lib/python3.5/site-packages/IPython/config.py:13: ShimWarning: The `IPython.config` package has been deprecated. You should import from traitlets.config instead.\n",
      "  \"You should import from traitlets.config instead.\", ShimWarning)\n",
      "/opt/conda/lib/python3.5/site-packages/IPython/utils/traitlets.py:5: UserWarning: IPython.utils.traitlets has moved to a top-level traitlets package.\n",
      "  warn(\"IPython.utils.traitlets has moved to a top-level traitlets package.\")\n"
     ]
    }
   ],
   "source": [
    "%load_ext sql"
   ]
  },
  {
   "cell_type": "code",
   "execution_count": 2,
   "metadata": {
    "collapsed": false
   },
   "outputs": [
    {
     "name": "stdout",
     "output_type": "stream",
     "text": [
      "[sudo] password for jovyan: Restarting PostgreSQL 9.5 database server: main.\n"
     ]
    }
   ],
   "source": [
    "!echo 'redspot' | sudo -S service postgresql restart"
   ]
  },
  {
   "cell_type": "code",
   "execution_count": null,
   "metadata": {
    "collapsed": true
   },
   "outputs": [],
   "source": []
  },
  {
   "cell_type": "code",
   "execution_count": 3,
   "metadata": {
    "collapsed": false
   },
   "outputs": [
    {
     "name": "stdout",
     "output_type": "stream",
     "text": [
      "--2016-12-03 22:29:17--  https://github.com/abhinav-91/DataManagement/raw/master/income06.zip\n",
      "Resolving github.com (github.com)... 192.30.253.113, 192.30.253.112\n",
      "Connecting to github.com (github.com)|192.30.253.113|:443... connected.\n",
      "HTTP request sent, awaiting response... 302 Found\n",
      "Location: https://raw.githubusercontent.com/abhinav-91/DataManagement/master/income06.zip [following]\n",
      "--2016-12-03 22:29:17--  https://raw.githubusercontent.com/abhinav-91/DataManagement/master/income06.zip\n",
      "Resolving raw.githubusercontent.com (raw.githubusercontent.com)... 151.101.32.133\n",
      "Connecting to raw.githubusercontent.com (raw.githubusercontent.com)|151.101.32.133|:443... connected.\n",
      "HTTP request sent, awaiting response... 200 OK\n",
      "Length: 12956277 (12M) [application/octet-stream]\n",
      "Saving to: ‘income06.zip’\n",
      "\n",
      "income06.zip        100%[=====================>]  12.36M  60.6MB/s   in 0.2s   \n",
      "\n",
      "2016-12-03 22:29:17 (60.6 MB/s) - ‘income06.zip’ saved [12956277/12956277]\n",
      "\n"
     ]
    }
   ],
   "source": [
    "!wget https://github.com/abhinav-91/DataManagement/raw/master/income06.zip"
   ]
  },
  {
   "cell_type": "code",
   "execution_count": 4,
   "metadata": {
    "collapsed": false
   },
   "outputs": [
    {
     "name": "stdout",
     "output_type": "stream",
     "text": [
      "--2016-12-03 22:29:17--  https://github.com/abhinav-91/DataManagement/raw/master/income07.zip\n",
      "Resolving github.com (github.com)... 192.30.253.112, 192.30.253.113\n",
      "Connecting to github.com (github.com)|192.30.253.112|:443... connected.\n",
      "HTTP request sent, awaiting response... 302 Found\n",
      "Location: https://raw.githubusercontent.com/abhinav-91/DataManagement/master/income07.zip [following]\n",
      "--2016-12-03 22:29:18--  https://raw.githubusercontent.com/abhinav-91/DataManagement/master/income07.zip\n",
      "Resolving raw.githubusercontent.com (raw.githubusercontent.com)... 151.101.32.133\n",
      "Connecting to raw.githubusercontent.com (raw.githubusercontent.com)|151.101.32.133|:443... connected.\n",
      "HTTP request sent, awaiting response... 200 OK\n",
      "Length: 21968679 (21M) [application/octet-stream]\n",
      "Saving to: ‘income07.zip’\n",
      "\n",
      "income07.zip        100%[=====================>]  20.95M  66.7MB/s   in 0.3s   \n",
      "\n",
      "2016-12-03 22:29:18 (66.7 MB/s) - ‘income07.zip’ saved [21968679/21968679]\n",
      "\n"
     ]
    }
   ],
   "source": [
    "!wget https://github.com/abhinav-91/DataManagement/raw/master/income07.zip"
   ]
  },
  {
   "cell_type": "code",
   "execution_count": 5,
   "metadata": {
    "collapsed": false
   },
   "outputs": [
    {
     "name": "stdout",
     "output_type": "stream",
     "text": [
      "--2016-12-03 22:29:18--  https://github.com/abhinav-91/DataManagement/raw/master/income08.zip\n",
      "Resolving github.com (github.com)... 192.30.253.113, 192.30.253.112\n",
      "Connecting to github.com (github.com)|192.30.253.113|:443... connected.\n",
      "HTTP request sent, awaiting response... 302 Found\n",
      "Location: https://raw.githubusercontent.com/abhinav-91/DataManagement/master/income08.zip [following]\n",
      "--2016-12-03 22:29:18--  https://raw.githubusercontent.com/abhinav-91/DataManagement/master/income08.zip\n",
      "Resolving raw.githubusercontent.com (raw.githubusercontent.com)... 151.101.32.133\n",
      "Connecting to raw.githubusercontent.com (raw.githubusercontent.com)|151.101.32.133|:443... connected.\n",
      "HTTP request sent, awaiting response... 200 OK\n",
      "Length: 17908767 (17M) [application/octet-stream]\n",
      "Saving to: ‘income08.zip’\n",
      "\n",
      "income08.zip        100%[=====================>]  17.08M  65.7MB/s   in 0.3s   \n",
      "\n",
      "2016-12-03 22:29:18 (65.7 MB/s) - ‘income08.zip’ saved [17908767/17908767]\n",
      "\n"
     ]
    }
   ],
   "source": [
    "!wget https://github.com/abhinav-91/DataManagement/raw/master/income08.zip"
   ]
  },
  {
   "cell_type": "code",
   "execution_count": 6,
   "metadata": {
    "collapsed": false
   },
   "outputs": [
    {
     "name": "stdout",
     "output_type": "stream",
     "text": [
      "--2016-12-03 22:29:19--  https://github.com/abhinav-91/DataManagement/raw/master/income09.zip\n",
      "Resolving github.com (github.com)... 192.30.253.112, 192.30.253.113\n",
      "Connecting to github.com (github.com)|192.30.253.112|:443... connected.\n",
      "HTTP request sent, awaiting response... 302 Found\n",
      "Location: https://raw.githubusercontent.com/abhinav-91/DataManagement/master/income09.zip [following]\n",
      "--2016-12-03 22:29:19--  https://raw.githubusercontent.com/abhinav-91/DataManagement/master/income09.zip\n",
      "Resolving raw.githubusercontent.com (raw.githubusercontent.com)... 151.101.32.133\n",
      "Connecting to raw.githubusercontent.com (raw.githubusercontent.com)|151.101.32.133|:443... connected.\n",
      "HTTP request sent, awaiting response... 200 OK\n",
      "Length: 18375324 (18M) [application/octet-stream]\n",
      "Saving to: ‘income09.zip’\n",
      "\n",
      "income09.zip        100%[=====================>]  17.52M  60.7MB/s   in 0.3s   \n",
      "\n",
      "2016-12-03 22:29:19 (60.7 MB/s) - ‘income09.zip’ saved [18375324/18375324]\n",
      "\n"
     ]
    }
   ],
   "source": [
    "!wget https://github.com/abhinav-91/DataManagement/raw/master/income09.zip"
   ]
  },
  {
   "cell_type": "code",
   "execution_count": 7,
   "metadata": {
    "collapsed": false
   },
   "outputs": [
    {
     "name": "stdout",
     "output_type": "stream",
     "text": [
      "--2016-12-03 22:29:19--  https://github.com/abhinav-91/DataManagement/raw/master/income10.zip\n",
      "Resolving github.com (github.com)... 192.30.253.113, 192.30.253.112\n",
      "Connecting to github.com (github.com)|192.30.253.113|:443... connected.\n",
      "HTTP request sent, awaiting response... 302 Found\n",
      "Location: https://raw.githubusercontent.com/abhinav-91/DataManagement/master/income10.zip [following]\n",
      "--2016-12-03 22:29:19--  https://raw.githubusercontent.com/abhinav-91/DataManagement/master/income10.zip\n",
      "Resolving raw.githubusercontent.com (raw.githubusercontent.com)... 151.101.32.133\n",
      "Connecting to raw.githubusercontent.com (raw.githubusercontent.com)|151.101.32.133|:443... connected.\n",
      "HTTP request sent, awaiting response... 200 OK\n",
      "Length: 18496416 (18M) [application/octet-stream]\n",
      "Saving to: ‘income10.zip’\n",
      "\n",
      "income10.zip        100%[=====================>]  17.64M  65.2MB/s   in 0.3s   \n",
      "\n",
      "2016-12-03 22:29:20 (65.2 MB/s) - ‘income10.zip’ saved [18496416/18496416]\n",
      "\n"
     ]
    }
   ],
   "source": [
    "!wget https://github.com/abhinav-91/DataManagement/raw/master/income10.zip"
   ]
  },
  {
   "cell_type": "code",
   "execution_count": 8,
   "metadata": {
    "collapsed": false
   },
   "outputs": [
    {
     "name": "stdout",
     "output_type": "stream",
     "text": [
      "Archive:  income06.zip\n",
      "  inflating: zipcode06.csv           \n",
      "Archive:  income07.zip\n",
      "  inflating: zipcode07.csv           \n",
      "Archive:  income08.zip\n",
      "  inflating: 08zpall.csv             \n",
      "Archive:  income09.zip\n",
      "  inflating: 09zpallagi.csv          \n",
      "Archive:  income10.zip\n",
      "  inflating: 10zpallagi.csv          \n"
     ]
    }
   ],
   "source": [
    "!unzip income06.zip\n",
    "!unzip income07.zip\n",
    "!unzip income08.zip\n",
    "!unzip income09.zip\n",
    "!unzip income10.zip"
   ]
  },
  {
   "cell_type": "markdown",
   "metadata": {},
   "source": [
    "## Choosing columns that contain valuable data\n",
    "I have decided to keep the following columns:\n",
    "\n",
    "STATE: The State associated with the ZIP code\n",
    "\n",
    "ZIPCODE: 5digit\n",
    "\n",
    "Zip code\n",
    "\n",
    "NUMDEP: Number of dependents\n",
    "\n",
    "A00100: Adjust gross income\n",
    "\n"
   ]
  },
  {
   "cell_type": "code",
   "execution_count": 9,
   "metadata": {
    "collapsed": false
   },
   "outputs": [
    {
     "name": "stdout",
     "output_type": "stream",
     "text": [
      "  1: state\r\n",
      "  2: agi_class\r\n",
      "  3: zipcode\r\n",
      "  4: n1\r\n",
      "  5: n2\r\n",
      "  6: n6\r\n",
      "  7: a00100\r\n",
      "  8: n00200\r\n",
      "  9: a00200\r\n",
      " 10: n00300\r\n",
      " 11: a00300\r\n",
      " 12: n00600\r\n",
      " 13: a00600\r\n",
      " 14: n23900\r\n",
      " 15: a23900\r\n",
      " 16: n00900\r\n",
      " 17: a00900\r\n",
      " 18: n02100\r\n",
      " 19: a02100\r\n",
      " 20: n03150\r\n",
      " 21: a03150\r\n",
      " 22: n03300\r\n",
      " 23: a03300\r\n",
      " 24: n04470\r\n",
      " 25: agi_04470\r\n",
      " 26: a04470\r\n",
      " 27: n19700\r\n",
      " 28: agi_19700\r\n",
      " 29: a19700\r\n",
      " 30: n18300\r\n",
      " 31: agi_18300\r\n",
      " 32: a18300\r\n",
      " 33: n09600\r\n",
      " 34: a09600\r\n",
      " 35: n05800\r\n",
      " 36: a05800\r\n",
      " 37: n09200\r\n",
      " 38: a09200\r\n",
      " 39: n59660\r\n",
      " 40: a59660\r\n",
      " 41: prep\r\n"
     ]
    }
   ],
   "source": [
    "!csvcut -n zipcode06.csv"
   ]
  },
  {
   "cell_type": "code",
   "execution_count": 10,
   "metadata": {
    "collapsed": false
   },
   "outputs": [],
   "source": [
    "!csvcut -c 1,2,3,7,9 zipcode06.csv > zipincome06.csv"
   ]
  },
  {
   "cell_type": "code",
   "execution_count": 11,
   "metadata": {
    "collapsed": false
   },
   "outputs": [
    {
     "name": "stdout",
     "output_type": "stream",
     "text": [
      "  1: state\r\n",
      "  2: ZIPCODE\r\n",
      "  3: agi_class\r\n",
      "  4: n1\r\n",
      "  5: mars2\r\n",
      "  6: prep\r\n",
      "  7: n2\r\n",
      "  8: numdep\r\n",
      "  9: a00100\r\n",
      " 10: n00200\r\n",
      " 11: a00200\r\n",
      " 12: n00300\r\n",
      " 13: a00300\r\n",
      " 14: n00600\r\n",
      " 15: a00600\r\n",
      " 16: n00900\r\n",
      " 17: a00900\r\n",
      " 18: schf\r\n",
      " 19: n23900\r\n",
      " 20: a23900\r\n",
      " 21: n01400\r\n",
      " 22: a01400\r\n",
      " 23: n01700\r\n",
      " 24: a01700\r\n",
      " 25: n02300\r\n",
      " 26: a02300\r\n",
      " 27: n02500\r\n",
      " 28: a02500\r\n",
      " 29: n03300\r\n",
      " 30: a03300\r\n",
      " 31: n04470\r\n",
      " 32: a04470\r\n",
      " 33: n18425\r\n",
      " 34: a18425\r\n",
      " 35: n18450\r\n",
      " 36: a18450\r\n",
      " 37: n18500\r\n",
      " 38: a18500\r\n",
      " 39: n18300\r\n",
      " 40: a18300\r\n",
      " 41: n19300\r\n",
      " 42: a19300\r\n",
      " 43: n19700\r\n",
      " 44: a19700\r\n",
      " 45: n04800\r\n",
      " 46: a04800\r\n",
      " 47: n07100\r\n",
      " 48: a07100\r\n",
      " 49: nf5695\r\n",
      " 50: af5695\r\n",
      " 51: n07220\r\n",
      " 52: a07220\r\n",
      " 53: n07180\r\n",
      " 54: a07180\r\n"
     ]
    }
   ],
   "source": [
    "!csvcut -n zipcode07.csv"
   ]
  },
  {
   "cell_type": "code",
   "execution_count": 12,
   "metadata": {
    "collapsed": true
   },
   "outputs": [],
   "source": [
    "!csvcut -c 1,2,3,9,11 zipcode07.csv > zipincome07.csv"
   ]
  },
  {
   "cell_type": "code",
   "execution_count": 13,
   "metadata": {
    "collapsed": false
   },
   "outputs": [
    {
     "name": "stdout",
     "output_type": "stream",
     "text": [
      "  1: state\r\n",
      "  2: ZIPCODE\r\n",
      "  3: agi_class\r\n",
      "  4: n1\r\n",
      "  5: mars2\r\n",
      "  6: prep\r\n",
      "  7: n2\r\n",
      "  8: numdep\r\n",
      "  9: a00100\r\n",
      " 10: a00200\r\n",
      " 11: a00300\r\n",
      " 12: a00600\r\n",
      " 13: a00900\r\n",
      " 14: a23900\r\n",
      " 15: a01400\r\n",
      " 16: a01700\r\n",
      " 17: a02300\r\n",
      " 18: a02500\r\n",
      " 19: a03300\r\n",
      " 20: a04470\r\n",
      " 21: a18425\r\n",
      " 22: a18450\r\n",
      " 23: a18500\r\n",
      " 24: a18300\r\n",
      " 25: a19300\r\n",
      " 26: a19700\r\n",
      " 27: a04800\r\n",
      " 28: a07100\r\n",
      " 29: af5695\r\n",
      " 30: a07220\r\n",
      " 31: a07180\r\n",
      " 32: a59660\r\n",
      " 33: a59720\r\n",
      " 34: a09600\r\n",
      " 35: a06500\r\n",
      " 36: a10300\r\n",
      " 37: a11900gt0\r\n",
      " 38: a11900lt0\r\n"
     ]
    }
   ],
   "source": [
    "!csvcut -n 08zpall.csv"
   ]
  },
  {
   "cell_type": "code",
   "execution_count": 14,
   "metadata": {
    "collapsed": true
   },
   "outputs": [],
   "source": [
    "!csvcut -c 1,2,3,9,11 08zpall.csv > zipincome08.csv"
   ]
  },
  {
   "cell_type": "code",
   "execution_count": 15,
   "metadata": {
    "collapsed": false
   },
   "outputs": [
    {
     "name": "stdout",
     "output_type": "stream",
     "text": [
      "  1: STATEFIPS\r\n",
      "  2: STATE\r\n",
      "  3: zipcode\r\n",
      "  4: agi_stub\r\n",
      "  5: N1\r\n",
      "  6: MARS2\r\n",
      "  7: PREP\r\n",
      "  8: N2\r\n",
      "  9: NUMDEP\r\n",
      " 10: A00100\r\n",
      " 11: N00200\r\n",
      " 12: A00200\r\n",
      " 13: N00300\r\n",
      " 14: A00300\r\n",
      " 15: N00600\r\n",
      " 16: A00600\r\n",
      " 17: N00650\r\n",
      " 18: A00650\r\n",
      " 19: N00900\r\n",
      " 20: A00900\r\n",
      " 21: SCHF\r\n",
      " 22: N01000\r\n",
      " 23: A01000\r\n",
      " 24: N01400\r\n",
      " 25: A01400\r\n",
      " 26: N01700\r\n",
      " 27: A01700\r\n",
      " 28: N02300\r\n",
      " 29: A02300\r\n",
      " 30: N02500\r\n",
      " 31: A02500\r\n",
      " 32: N03300\r\n",
      " 33: A03300\r\n",
      " 34: N04470\r\n",
      " 35: A04470\r\n",
      " 36: N18425\r\n",
      " 37: A18425\r\n",
      " 38: N18450\r\n",
      " 39: A18450\r\n",
      " 40: N18500\r\n",
      " 41: A18500\r\n",
      " 42: N18300\r\n",
      " 43: A18300\r\n",
      " 44: N19300\r\n",
      " 45: A19300\r\n",
      " 46: N19700\r\n",
      " 47: A19700\r\n",
      " 48: N04800\r\n",
      " 49: A04800\r\n",
      " 50: N07100\r\n",
      " 51: A07100\r\n",
      " 52: N07220\r\n",
      " 53: A07220\r\n",
      " 54: N07180\r\n",
      " 55: A07180\r\n",
      " 56: N07260\r\n",
      " 57: A07260\r\n",
      " 58: N59660\r\n",
      " 59: A59660\r\n",
      " 60: N59720\r\n",
      " 61: A59720\r\n",
      " 62: N11070\r\n",
      " 63: A11070\r\n",
      " 64: N09600\r\n",
      " 65: A09600\r\n",
      " 66: N06500\r\n",
      " 67: A06500\r\n",
      " 68: N10300\r\n",
      " 69: A10300\r\n",
      " 70: N11901\r\n",
      " 71: A11901\r\n",
      " 72: N11902\r\n",
      " 73: A11902\r\n"
     ]
    }
   ],
   "source": [
    "!csvcut -n 09zpallagi.csv"
   ]
  },
  {
   "cell_type": "code",
   "execution_count": 16,
   "metadata": {
    "collapsed": true
   },
   "outputs": [],
   "source": [
    "!csvcut -c 2,3,4,10,12 09zpallagi.csv > zipincome09.csv"
   ]
  },
  {
   "cell_type": "code",
   "execution_count": 17,
   "metadata": {
    "collapsed": false
   },
   "outputs": [
    {
     "name": "stdout",
     "output_type": "stream",
     "text": [
      "  1: STATEFIPS\r\n",
      "  2: STATE\r\n",
      "  3: zipcode\r\n",
      "  4: agi_stub\r\n",
      "  5: N1\r\n",
      "  6: MARS2\r\n",
      "  7: PREP\r\n",
      "  8: N2\r\n",
      "  9: NUMDEP\r\n",
      " 10: A00100\r\n",
      " 11: N00200\r\n",
      " 12: A00200\r\n",
      " 13: N00300\r\n",
      " 14: A00300\r\n",
      " 15: N00600\r\n",
      " 16: A00600\r\n",
      " 17: N00650\r\n",
      " 18: A00650\r\n",
      " 19: N00900\r\n",
      " 20: A00900\r\n",
      " 21: SCHF\r\n",
      " 22: N01000\r\n",
      " 23: A01000\r\n",
      " 24: N01400\r\n",
      " 25: A01400\r\n",
      " 26: N01700\r\n",
      " 27: A01700\r\n",
      " 28: N02300\r\n",
      " 29: A02300\r\n",
      " 30: N02500\r\n",
      " 31: A02500\r\n",
      " 32: N03300\r\n",
      " 33: A03300\r\n",
      " 34: N04470\r\n",
      " 35: A04470\r\n",
      " 36: N18425\r\n",
      " 37: A18425\r\n",
      " 38: N18450\r\n",
      " 39: A18450\r\n",
      " 40: N18500\r\n",
      " 41: A18500\r\n",
      " 42: N18300\r\n",
      " 43: A18300\r\n",
      " 44: N19300\r\n",
      " 45: A19300\r\n",
      " 46: N19700\r\n",
      " 47: A19700\r\n",
      " 48: N04800\r\n",
      " 49: A04800\r\n",
      " 50: N07100\r\n",
      " 51: A07100\r\n",
      " 52: N07220\r\n",
      " 53: A07220\r\n",
      " 54: N07180\r\n",
      " 55: A07180\r\n",
      " 56: N07260\r\n",
      " 57: A07260\r\n",
      " 58: N59660\r\n",
      " 59: A59660\r\n",
      " 60: N59720\r\n",
      " 61: A59720\r\n",
      " 62: N11070\r\n",
      " 63: A11070\r\n",
      " 64: N09600\r\n",
      " 65: A09600\r\n",
      " 66: N06500\r\n",
      " 67: A06500\r\n",
      " 68: N10300\r\n",
      " 69: A10300\r\n",
      " 70: N11901\r\n",
      " 71: A11901\r\n",
      " 72: N11902\r\n",
      " 73: A11902\r\n"
     ]
    }
   ],
   "source": [
    "!csvcut -n 10zpallagi.csv"
   ]
  },
  {
   "cell_type": "code",
   "execution_count": 18,
   "metadata": {
    "collapsed": true
   },
   "outputs": [],
   "source": [
    "!csvcut -c 2,3,4,10,12 10zpallagi.csv > zipincome10.csv"
   ]
  },
  {
   "cell_type": "code",
   "execution_count": 19,
   "metadata": {
    "collapsed": true
   },
   "outputs": [],
   "source": [
    "!createdb -U dbuser income"
   ]
  },
  {
   "cell_type": "code",
   "execution_count": 20,
   "metadata": {
    "collapsed": false
   },
   "outputs": [
    {
     "data": {
      "text/plain": [
       "'Connected: dbuser@income'"
      ]
     },
     "execution_count": 20,
     "metadata": {},
     "output_type": "execute_result"
    }
   ],
   "source": [
    "%sql postgresql://dbuser@localhost:5432/income"
   ]
  },
  {
   "cell_type": "code",
   "execution_count": 21,
   "metadata": {
    "collapsed": false
   },
   "outputs": [
    {
     "name": "stdout",
     "output_type": "stream",
     "text": [
      "  1. STATE\n",
      "\t<class 'str'>\n",
      "\tNulls: False\n",
      "\tUnique values: 51\n",
      "\t5 most frequent values:\n",
      "\t\tTX:\t9744\n",
      "\t\tNY:\t9288\n",
      "\t\tCA:\t8922\n",
      "\t\tPA:\t8220\n",
      "\t\tIL:\t7380\n",
      "\tMax length: 2\n",
      "  2. zipcode\n",
      "\t<class 'str'>\n",
      "\tNulls: False\n",
      "\tUnique values: 27787\n",
      "\t5 most frequent values:\n",
      "\t\t00000:\t306\n",
      "\t\t26047:\t6\n",
      "\t\t49649:\t6\n",
      "\t\t01331:\t6\n",
      "\t\t55943:\t6\n",
      "\tMax length: 5\n",
      "  3. agi_stub\n",
      "\t<class 'int'>\n",
      "\tNulls: False\n",
      "\tMin: 1\n",
      "\tMax: 6\n",
      "\tSum: 584577\n",
      "\tMean: 3.5\n",
      "\tMedian: 3.5\n",
      "\tStandard Deviation: 1.707825127659933\n",
      "\tUnique values: 6\n",
      "\t5 most frequent values:\n",
      "\t\t2:\t27837\n",
      "\t\t1:\t27837\n",
      "\t\t5:\t27837\n",
      "\t\t3:\t27837\n",
      "\t\t4:\t27837\n",
      "  4. A00100\n",
      "\t<class 'float'>\n",
      "\tNulls: False\n",
      "\tMin: 0.0\n",
      "\tMax: 333873277.0\n",
      "\tSum: 16069192552.126\n",
      "\tMean: 96210.03551703368\n",
      "\tMedian: 13141.5\n",
      "\tStandard Deviation: 1938347.0504983012\n",
      "\tUnique values: 73258\n",
      "\t5 most frequent values:\n",
      "\t\t0.0001:\t21260\n",
      "\t\t0.0:\t1432\n",
      "\t\t2995.0:\t20\n",
      "\t\t4416.0:\t18\n",
      "\t\t3713.0:\t17\n",
      "  5. A00200\n",
      "\t<class 'float'>\n",
      "\tNulls: False\n",
      "\tMin: 0.0\n",
      "\tMax: 190429362.0\n",
      "\tSum: 11356585042.2569\n",
      "\tMean: 67994.54588172157\n",
      "\tMedian: 8914.0\n",
      "\tStandard Deviation: 1311928.7123288058\n",
      "\tUnique values: 64860\n",
      "\t5 most frequent values:\n",
      "\t\t0.0001:\t22569\n",
      "\t\t0.0:\t1432\n",
      "\t\t2313.0:\t22\n",
      "\t\t2878.0:\t22\n",
      "\t\t3227.0:\t22\n",
      "\n",
      "Row count: 167022\n"
     ]
    }
   ],
   "source": [
    "!csvstat zipincome10.csv"
   ]
  },
  {
   "cell_type": "code",
   "execution_count": 45,
   "metadata": {
    "collapsed": false
   },
   "outputs": [
    {
     "name": "stdout",
     "output_type": "stream",
     "text": [
      "Done.\n",
      "Done.\n"
     ]
    },
    {
     "data": {
      "text/plain": [
       "[]"
      ]
     },
     "execution_count": 45,
     "metadata": {},
     "output_type": "execute_result"
    }
   ],
   "source": [
    "%%sql\n",
    "DROP TABLE IF EXISTS incomezip06;\n",
    "CREATE TABLE incomezip06 (\n",
    "STATE CHAR (8),\n",
    "ZIP CHAR(10),\n",
    "AGI_STUB INT,\n",
    "A00100 NUMERIC,\n",
    "A00200 VARCHAR(32)\n",
    ")"
   ]
  },
  {
   "cell_type": "code",
   "execution_count": 46,
   "metadata": {
    "collapsed": false
   },
   "outputs": [
    {
     "name": "stdout",
     "output_type": "stream",
     "text": [
      "269603 rows affected.\n"
     ]
    },
    {
     "data": {
      "text/plain": [
       "[]"
      ]
     },
     "execution_count": 46,
     "metadata": {},
     "output_type": "execute_result"
    }
   ],
   "source": [
    "%%sql\n",
    "COPY incomezip06 FROM '/home/jovyan/work/zipincome06.csv'\n",
    "CSV\n",
    "HEADER\n",
    "QUOTE '\"'\n",
    "DELIMITER ',';"
   ]
  },
  {
   "cell_type": "code",
   "execution_count": 47,
   "metadata": {
    "collapsed": false
   },
   "outputs": [
    {
     "name": "stdout",
     "output_type": "stream",
     "text": [
      "Done.\n"
     ]
    },
    {
     "data": {
      "text/plain": [
       "[]"
      ]
     },
     "execution_count": 47,
     "metadata": {},
     "output_type": "execute_result"
    }
   ],
   "source": [
    "%%sql\n",
    "ALTER TABLE incomezip06\n",
    "ADD year INT NOT NULL\n",
    "CONSTRAINT year DEFAULT 2006"
   ]
  },
  {
   "cell_type": "code",
   "execution_count": 48,
   "metadata": {
    "collapsed": false
   },
   "outputs": [
    {
     "name": "stdout",
     "output_type": "stream",
     "text": [
      "Done.\n",
      "Done.\n"
     ]
    },
    {
     "data": {
      "text/plain": [
       "[]"
      ]
     },
     "execution_count": 48,
     "metadata": {},
     "output_type": "execute_result"
    }
   ],
   "source": [
    "%%sql\n",
    "DROP TABLE IF EXISTS incomezip07;\n",
    "CREATE TABLE incomezip07 (\n",
    "STATE CHAR (8),\n",
    "ZIP CHAR(10),\n",
    "AGI_STUB INT,\n",
    "A00100 NUMERIC,\n",
    "A00200 VARCHAR(32)\n",
    ")"
   ]
  },
  {
   "cell_type": "code",
   "execution_count": 49,
   "metadata": {
    "collapsed": false
   },
   "outputs": [
    {
     "name": "stdout",
     "output_type": "stream",
     "text": [
      "232681 rows affected.\n"
     ]
    },
    {
     "data": {
      "text/plain": [
       "[]"
      ]
     },
     "execution_count": 49,
     "metadata": {},
     "output_type": "execute_result"
    }
   ],
   "source": [
    "%%sql\n",
    "COPY incomezip07 FROM '/home/jovyan/work/zipincome07.csv'\n",
    "CSV\n",
    "HEADER\n",
    "QUOTE '\"'\n",
    "DELIMITER ',';"
   ]
  },
  {
   "cell_type": "code",
   "execution_count": 50,
   "metadata": {
    "collapsed": false
   },
   "outputs": [
    {
     "name": "stdout",
     "output_type": "stream",
     "text": [
      "Done.\n"
     ]
    },
    {
     "data": {
      "text/plain": [
       "[]"
      ]
     },
     "execution_count": 50,
     "metadata": {},
     "output_type": "execute_result"
    }
   ],
   "source": [
    "%%sql\n",
    "ALTER TABLE incomezip07\n",
    "ADD year INT NOT NULL\n",
    "CONSTRAINT year DEFAULT 2007"
   ]
  },
  {
   "cell_type": "code",
   "execution_count": 51,
   "metadata": {
    "collapsed": false
   },
   "outputs": [
    {
     "name": "stdout",
     "output_type": "stream",
     "text": [
      "Done.\n",
      "Done.\n"
     ]
    },
    {
     "data": {
      "text/plain": [
       "[]"
      ]
     },
     "execution_count": 51,
     "metadata": {},
     "output_type": "execute_result"
    }
   ],
   "source": [
    "%%sql\n",
    "DROP TABLE IF EXISTS incomezip08;\n",
    "CREATE TABLE incomezip08 (\n",
    "STATE CHAR (8),\n",
    "ZIP CHAR(10),\n",
    "AGI_STUB INT,\n",
    "A00100 NUMERIC,\n",
    "A00200 VARCHAR(32)\n",
    ")"
   ]
  },
  {
   "cell_type": "code",
   "execution_count": 52,
   "metadata": {
    "collapsed": false
   },
   "outputs": [
    {
     "name": "stdout",
     "output_type": "stream",
     "text": [
      "191284 rows affected.\n"
     ]
    },
    {
     "data": {
      "text/plain": [
       "[]"
      ]
     },
     "execution_count": 52,
     "metadata": {},
     "output_type": "execute_result"
    }
   ],
   "source": [
    "%%sql\n",
    "COPY incomezip08 FROM '/home/jovyan/work/zipincome08.csv'\n",
    "CSV\n",
    "HEADER\n",
    "QUOTE '\"'\n",
    "DELIMITER ',';"
   ]
  },
  {
   "cell_type": "code",
   "execution_count": 53,
   "metadata": {
    "collapsed": false
   },
   "outputs": [
    {
     "name": "stdout",
     "output_type": "stream",
     "text": [
      "Done.\n"
     ]
    },
    {
     "data": {
      "text/plain": [
       "[]"
      ]
     },
     "execution_count": 53,
     "metadata": {},
     "output_type": "execute_result"
    }
   ],
   "source": [
    "%%sql\n",
    "ALTER TABLE incomezip08\n",
    "ADD year INT NOT NULL\n",
    "CONSTRAINT year DEFAULT 2008"
   ]
  },
  {
   "cell_type": "code",
   "execution_count": 54,
   "metadata": {
    "collapsed": false
   },
   "outputs": [
    {
     "name": "stdout",
     "output_type": "stream",
     "text": [
      "Done.\n",
      "Done.\n"
     ]
    },
    {
     "data": {
      "text/plain": [
       "[]"
      ]
     },
     "execution_count": 54,
     "metadata": {},
     "output_type": "execute_result"
    }
   ],
   "source": [
    "%%sql\n",
    "DROP TABLE IF EXISTS incomezip09;\n",
    "CREATE TABLE incomezip09 (\n",
    "STATE CHAR (8),\n",
    "ZIP CHAR(10),\n",
    "AGI_STUB INT,\n",
    "A00100 NUMERIC,\n",
    "A00200 VARCHAR(32)\n",
    ")"
   ]
  },
  {
   "cell_type": "code",
   "execution_count": 55,
   "metadata": {
    "collapsed": false
   },
   "outputs": [
    {
     "name": "stdout",
     "output_type": "stream",
     "text": [
      "167178 rows affected.\n"
     ]
    },
    {
     "data": {
      "text/plain": [
       "[]"
      ]
     },
     "execution_count": 55,
     "metadata": {},
     "output_type": "execute_result"
    }
   ],
   "source": [
    "%%sql\n",
    "COPY incomezip09 FROM '/home/jovyan/work/zipincome09.csv'\n",
    "CSV\n",
    "HEADER\n",
    "QUOTE '\"'\n",
    "DELIMITER ',';"
   ]
  },
  {
   "cell_type": "code",
   "execution_count": 56,
   "metadata": {
    "collapsed": false
   },
   "outputs": [
    {
     "name": "stdout",
     "output_type": "stream",
     "text": [
      "Done.\n"
     ]
    },
    {
     "data": {
      "text/plain": [
       "[]"
      ]
     },
     "execution_count": 56,
     "metadata": {},
     "output_type": "execute_result"
    }
   ],
   "source": [
    "%%sql\n",
    "ALTER TABLE incomezip09\n",
    "ADD year INT NOT NULL\n",
    "CONSTRAINT year DEFAULT 2009"
   ]
  },
  {
   "cell_type": "code",
   "execution_count": 57,
   "metadata": {
    "collapsed": false
   },
   "outputs": [
    {
     "name": "stdout",
     "output_type": "stream",
     "text": [
      "Done.\n",
      "Done.\n"
     ]
    },
    {
     "data": {
      "text/plain": [
       "[]"
      ]
     },
     "execution_count": 57,
     "metadata": {},
     "output_type": "execute_result"
    }
   ],
   "source": [
    "%%sql\n",
    "DROP TABLE IF EXISTS incomezip10;\n",
    "CREATE TABLE incomezip10 (\n",
    "STATE CHAR (8),\n",
    "ZIP CHAR(10),\n",
    "AGI_STUB INT,\n",
    "A00100 NUMERIC,\n",
    "A00200 VARCHAR(32)\n",
    ")"
   ]
  },
  {
   "cell_type": "code",
   "execution_count": 58,
   "metadata": {
    "collapsed": false
   },
   "outputs": [
    {
     "name": "stdout",
     "output_type": "stream",
     "text": [
      "167022 rows affected.\n"
     ]
    },
    {
     "data": {
      "text/plain": [
       "[]"
      ]
     },
     "execution_count": 58,
     "metadata": {},
     "output_type": "execute_result"
    }
   ],
   "source": [
    "%%sql\n",
    "COPY incomezip10 FROM '/home/jovyan/work/zipincome10.csv'\n",
    "CSV\n",
    "HEADER\n",
    "QUOTE '\"'\n",
    "DELIMITER ',';"
   ]
  },
  {
   "cell_type": "code",
   "execution_count": 59,
   "metadata": {
    "collapsed": false
   },
   "outputs": [
    {
     "name": "stdout",
     "output_type": "stream",
     "text": [
      "Done.\n"
     ]
    },
    {
     "data": {
      "text/plain": [
       "[]"
      ]
     },
     "execution_count": 59,
     "metadata": {},
     "output_type": "execute_result"
    }
   ],
   "source": [
    "%%sql\n",
    "ALTER TABLE incomezip10\n",
    "ADD year INT NOT NULL\n",
    "CONSTRAINT year DEFAULT 2010"
   ]
  },
  {
   "cell_type": "code",
   "execution_count": 60,
   "metadata": {
    "collapsed": false
   },
   "outputs": [
    {
     "name": "stdout",
     "output_type": "stream",
     "text": [
      "Done.\n",
      "1027768 rows affected.\n"
     ]
    },
    {
     "data": {
      "text/plain": [
       "[]"
      ]
     },
     "execution_count": 60,
     "metadata": {},
     "output_type": "execute_result"
    }
   ],
   "source": [
    "%%sql\n",
    "DROP TABLE IF EXISTS incomezip;\n",
    "SELECT *\n",
    "    INTO incomezip\n",
    "    FROM (\n",
    "    SELECT * FROM incomezip06\n",
    "    UNION ALL\n",
    "    SELECT * FROM incomezip07\n",
    "    UNION ALL\n",
    "    SELECT * FROM incomezip08\n",
    "    UNION ALL\n",
    "    SELECT * FROM incomezip09\n",
    "    UNION ALL\n",
    "    SELECT * FROM incomezip10\n",
    "    ) AS incomebyzip"
   ]
  },
  {
   "cell_type": "code",
   "execution_count": 61,
   "metadata": {
    "collapsed": false
   },
   "outputs": [
    {
     "name": "stdout",
     "output_type": "stream",
     "text": [
      "5 rows affected.\n"
     ]
    },
    {
     "data": {
      "text/html": [
       "<table>\n",
       "    <tr>\n",
       "        <th>state</th>\n",
       "        <th>zip</th>\n",
       "        <th>agi_stub</th>\n",
       "        <th>a00100</th>\n",
       "        <th>a00200</th>\n",
       "        <th>year</th>\n",
       "    </tr>\n",
       "    <tr>\n",
       "        <td>AL      </td>\n",
       "        <td>00000     </td>\n",
       "        <td>2</td>\n",
       "        <td>17382840.000</td>\n",
       "        <td>14163028.000</td>\n",
       "        <td>2010</td>\n",
       "    </tr>\n",
       "    <tr>\n",
       "        <td>AL      </td>\n",
       "        <td>00000     </td>\n",
       "        <td>3</td>\n",
       "        <td>15383011.000</td>\n",
       "        <td>12072207.000</td>\n",
       "        <td>2010</td>\n",
       "    </tr>\n",
       "    <tr>\n",
       "        <td>AL      </td>\n",
       "        <td>00000     </td>\n",
       "        <td>1</td>\n",
       "        <td>11813654.000</td>\n",
       "        <td>9033252.0000</td>\n",
       "        <td>2010</td>\n",
       "    </tr>\n",
       "    <tr>\n",
       "        <td>AL      </td>\n",
       "        <td>00000     </td>\n",
       "        <td>5</td>\n",
       "        <td>22173063.000</td>\n",
       "        <td>16811858.000</td>\n",
       "        <td>2010</td>\n",
       "    </tr>\n",
       "    <tr>\n",
       "        <td>AL      </td>\n",
       "        <td>00000     </td>\n",
       "        <td>4</td>\n",
       "        <td>13175268.000</td>\n",
       "        <td>10270849.000</td>\n",
       "        <td>2010</td>\n",
       "    </tr>\n",
       "</table>"
      ],
      "text/plain": [
       "[('AL      ', '00000     ', 2, Decimal('17382840.000'), '14163028.000', 2010),\n",
       " ('AL      ', '00000     ', 3, Decimal('15383011.000'), '12072207.000', 2010),\n",
       " ('AL      ', '00000     ', 1, Decimal('11813654.000'), '9033252.0000', 2010),\n",
       " ('AL      ', '00000     ', 5, Decimal('22173063.000'), '16811858.000', 2010),\n",
       " ('AL      ', '00000     ', 4, Decimal('13175268.000'), '10270849.000', 2010)]"
      ]
     },
     "execution_count": 61,
     "metadata": {},
     "output_type": "execute_result"
    }
   ],
   "source": [
    "%%sql\n",
    "SELECT * FROM incomezip\n",
    "ORDER BY year DESC\n",
    "LIMIT 5"
   ]
  },
  {
   "cell_type": "code",
   "execution_count": null,
   "metadata": {
    "collapsed": true
   },
   "outputs": [],
   "source": []
  }
 ],
 "metadata": {
  "kernelspec": {
   "display_name": "Python 3",
   "language": "python",
   "name": "python3"
  },
  "language_info": {
   "codemirror_mode": {
    "name": "ipython",
    "version": 3
   },
   "file_extension": ".py",
   "mimetype": "text/x-python",
   "name": "python",
   "nbconvert_exporter": "python",
   "pygments_lexer": "ipython3",
   "version": "3.5.2"
  }
 },
 "nbformat": 4,
 "nbformat_minor": 1
}
